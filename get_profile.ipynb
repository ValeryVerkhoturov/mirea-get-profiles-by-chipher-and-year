{
 "cells": [
  {
   "cell_type": "code",
   "execution_count": 2,
   "metadata": {
    "collapsed": true,
    "pycharm": {
     "name": "#%%\n"
    }
   },
   "outputs": [],
   "source": [
    "import pandas as pd\n",
    "import numpy as np"
   ]
  },
  {
   "cell_type": "code",
   "execution_count": 15,
   "outputs": [
    {
     "data": {
      "text/plain": "                                                                direction_code  \\\nchipher year profile_name                                                        \nБАСО    2019 Создание автоматизированных систем в защищенном...       10.05.03   \n        2020 Создание автоматизированных систем в защищенном...       10.05.03   \n        2021 Разработка автоматизированных систем в защищенн...       10.05.03   \n        2022 Разработка автоматизированных систем в защищенн...       10.05.03   \nБББО    2019 Организация и технология защиты информации               10.03.01   \n...                                                                        ...   \nNaN     2022 Аэрокосмическое зондирование, геоинформационные...       05.04.03   \n             Информационное право в цифровой экономике                40.04.01   \n             Правовое сопровождение бизнеса                           40.04.01   \n             Промышленная фармация                                    33.04.01   \n             Физика и технологии наносистем                           28.04.01   \n\n                                                                                                    direction_name  \nchipher year profile_name                                                                                           \nБАСО    2019 Создание автоматизированных систем в защищенном...  Информационная безопасность автоматизированных...  \n        2020 Создание автоматизированных систем в защищенном...  Информационная безопасность автоматизированных...  \n        2021 Разработка автоматизированных систем в защищенн...  Информационная безопасность автоматизированных...  \n        2022 Разработка автоматизированных систем в защищенн...  Информационная безопасность автоматизированных...  \nБББО    2019 Организация и технология защиты информации                                Информационная безопасность  \n...                                                                                                            ...  \nNaN     2022 Аэрокосмическое зондирование, геоинформационные...                       Картография и геоинформатика  \n             Информационное право в цифровой экономике                                               Юриспруденция  \n             Правовое сопровождение бизнеса                                                          Юриспруденция  \n             Промышленная фармация                                                           Промышленная фармация  \n             Физика и технологии наносистем                                Нанотехнологии и микросистемная техника  \n\n[665 rows x 2 columns]",
      "text/html": "<div>\n<style scoped>\n    .dataframe tbody tr th:only-of-type {\n        vertical-align: middle;\n    }\n\n    .dataframe tbody tr th {\n        vertical-align: top;\n    }\n\n    .dataframe thead th {\n        text-align: right;\n    }\n</style>\n<table border=\"1\" class=\"dataframe\">\n  <thead>\n    <tr style=\"text-align: right;\">\n      <th></th>\n      <th></th>\n      <th></th>\n      <th>direction_code</th>\n      <th>direction_name</th>\n    </tr>\n    <tr>\n      <th>chipher</th>\n      <th>year</th>\n      <th>profile_name</th>\n      <th></th>\n      <th></th>\n    </tr>\n  </thead>\n  <tbody>\n    <tr>\n      <th rowspan=\"4\" valign=\"top\">БАСО</th>\n      <th>2019</th>\n      <th>Создание автоматизированных систем в защищенном исполнении</th>\n      <td>10.05.03</td>\n      <td>Информационная безопасность автоматизированных...</td>\n    </tr>\n    <tr>\n      <th>2020</th>\n      <th>Создание автоматизированных систем в защищенном исполнении</th>\n      <td>10.05.03</td>\n      <td>Информационная безопасность автоматизированных...</td>\n    </tr>\n    <tr>\n      <th>2021</th>\n      <th>Разработка автоматизированных систем в защищенном исполнении</th>\n      <td>10.05.03</td>\n      <td>Информационная безопасность автоматизированных...</td>\n    </tr>\n    <tr>\n      <th>2022</th>\n      <th>Разработка автоматизированных систем в защищенном исполнении</th>\n      <td>10.05.03</td>\n      <td>Информационная безопасность автоматизированных...</td>\n    </tr>\n    <tr>\n      <th>БББО</th>\n      <th>2019</th>\n      <th>Организация и технология защиты информации</th>\n      <td>10.03.01</td>\n      <td>Информационная безопасность</td>\n    </tr>\n    <tr>\n      <th>...</th>\n      <th>...</th>\n      <th>...</th>\n      <td>...</td>\n      <td>...</td>\n    </tr>\n    <tr>\n      <th rowspan=\"5\" valign=\"top\">NaN</th>\n      <th rowspan=\"5\" valign=\"top\">2022</th>\n      <th>Аэрокосмическое зондирование, геоинформационные системы и комплексы</th>\n      <td>05.04.03</td>\n      <td>Картография и геоинформатика</td>\n    </tr>\n    <tr>\n      <th>Информационное право в цифровой экономике</th>\n      <td>40.04.01</td>\n      <td>Юриспруденция</td>\n    </tr>\n    <tr>\n      <th>Правовое сопровождение бизнеса</th>\n      <td>40.04.01</td>\n      <td>Юриспруденция</td>\n    </tr>\n    <tr>\n      <th>Промышленная фармация</th>\n      <td>33.04.01</td>\n      <td>Промышленная фармация</td>\n    </tr>\n    <tr>\n      <th>Физика и технологии наносистем</th>\n      <td>28.04.01</td>\n      <td>Нанотехнологии и микросистемная техника</td>\n    </tr>\n  </tbody>\n</table>\n<p>665 rows × 2 columns</p>\n</div>"
     },
     "execution_count": 15,
     "metadata": {},
     "output_type": "execute_result"
    }
   ],
   "source": [
    "def specialty_chipher_dataframe():\n",
    "    code_df = pd.read_csv(\"code.csv\").dropna().set_index(\"specialty\")\n",
    "\n",
    "    column_names = [\"year\", \"direction_code\", \"direction_name\", \"profile_name\"]\n",
    "    specialties_df = pd\\\n",
    "        .read_csv(\"specialties.csv\",\n",
    "                  usecols=column_names,\n",
    "                  dtype={\"year\" : np.uint16, \"direction_code\" : \"category\", \"direction_name\" : \"category\", \"profile_name\" : str})\\\n",
    "        .drop_duplicates()\\\n",
    "        .reset_index(drop=True)\\\n",
    "        [column_names]\\\n",
    "        .join(code_df, \"direction_code\")\\\n",
    "        .set_index([\"chipher\", \"year\", \"profile_name\"])\\\n",
    "        .sort_index()\n",
    "\n",
    "    specialties_df.to_csv(\"get_profiles_by_chipher_and_year.csv\", mode=\"w+\")\n",
    "\n",
    "\n",
    "\n",
    "    return specialties_df\n",
    "\n",
    "\n",
    "specialty_chipher_dataframe()"
   ],
   "metadata": {
    "collapsed": false,
    "pycharm": {
     "name": "#%%\n"
    }
   }
  },
  {
   "cell_type": "code",
   "execution_count": null,
   "outputs": [],
   "source": [],
   "metadata": {
    "collapsed": false,
    "pycharm": {
     "name": "#%%\n"
    }
   }
  }
 ],
 "metadata": {
  "kernelspec": {
   "display_name": "Python 3",
   "language": "python",
   "name": "python3"
  },
  "language_info": {
   "codemirror_mode": {
    "name": "ipython",
    "version": 2
   },
   "file_extension": ".py",
   "mimetype": "text/x-python",
   "name": "python",
   "nbconvert_exporter": "python",
   "pygments_lexer": "ipython2",
   "version": "2.7.6"
  }
 },
 "nbformat": 4,
 "nbformat_minor": 0
}